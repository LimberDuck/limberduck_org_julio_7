{
 "cells": [
  {
   "cell_type": "markdown",
   "id": "4f034c95-5954-4aac-ac6e-6daf4348aab1",
   "metadata": {},
   "source": [
    "# CWE"
   ]
  },
  {
   "cell_type": "markdown",
   "id": "166bea8a-75cf-4c87-8c88-eccac6c2efb4",
   "metadata": {},
   "source": [
    "**Common Weakness Enumeration (CWE™)** is a formal list or dictionary of common software and hardware weaknesses that can occur in architecture, design, code, or implementation that can lead to exploitable security vulnerabilities. CWE was created to serve as a common language for describing security weaknesses; serve as a standard measuring stick for security tools targeting these weaknesses; and to provide a common baseline standard for weakness identification, mitigation, and prevention efforts. “Weaknesses” are flaws, faults, bugs, and other errors in software and hardware design, architecture, code, or implementation that if left unaddressed could result in systems and networks, and hardware being vulnerable to attack\n",
    "\n",
    "> source: [cwe.mitre.org](https://cwe.mitre.org/about/faq.html#what_is_cwe_weakness_meaning)"
   ]
  },
  {
   "cell_type": "markdown",
   "id": "565d190c-11e6-42c0-b9b0-1560e440fa3f",
   "metadata": {},
   "source": [
    "You can see this notebook directly via:\n",
    "- [GitHub](https://github.com/LimberDuck/limberduck_org_julio_7/blob/main/docs/notebooks/cwe/cwe.ipynb)\n",
    "- [Jupter nbviewer](https://nbviewer.org/github/LimberDuck/limberduck_org_julio_7/blob/main/docs/notebooks/cwe/cwe.ipynb)"
   ]
  },
  {
   "cell_type": "markdown",
   "id": "976eafb3-02cb-4ad9-a716-70783e9a6434",
   "metadata": {},
   "source": [
    "## Generation time"
   ]
  },
  {
   "cell_type": "code",
   "execution_count": 1,
   "id": "3cd59ed4-798a-4aae-b84a-56ad8a520c24",
   "metadata": {},
   "outputs": [
    {
     "name": "stdout",
     "output_type": "stream",
     "text": [
      "2024-04-16 05:36:38 +0000\n"
     ]
    }
   ],
   "source": [
    "from datetime import datetime, timezone, timedelta\n",
    "\n",
    "timezone_offset = 0.0\n",
    "tzinfo = timezone(timedelta(hours=timezone_offset))\n",
    "generation_time = datetime.now(tzinfo).strftime('%Y-%m-%d %H:%M:%S %z')\n",
    "print(generation_time)"
   ]
  },
  {
   "cell_type": "markdown",
   "id": "11ed7cf0-c8eb-4300-b084-4b7d18713ea9",
   "metadata": {},
   "source": [
    "## Creative Commons"
   ]
  },
  {
   "cell_type": "markdown",
   "id": "02463631-dbdc-4d1b-9339-ad2f78729669",
   "metadata": {},
   "source": [
    "This notebook and generated diagrams are released with [Creative Commons liecense (CC BY 4.0)](https://creativecommons.org/licenses/by/4.0/deed.en).\n",
    "\n",
    "<a href=\"https://creativecommons.org/licenses/by/4.0/deed.en\"><img src=\"https://mirrors.creativecommons.org/presskit/buttons/88x31/png/by.png\" alt=\"CC BY 4.0\" width=\"100px\"/></a>"
   ]
  },
  {
   "cell_type": "code",
   "execution_count": 2,
   "id": "a360acfb-784e-41f6-a41d-59147352a07d",
   "metadata": {},
   "outputs": [
    {
     "name": "stdout",
     "output_type": "stream",
     "text": [
      "cc.xlarge.png\n",
      "by.xlarge.png\n"
     ]
    }
   ],
   "source": [
    "import requests\n",
    "import urllib3\n",
    "\n",
    "urllib3.disable_warnings()\n",
    "\n",
    "urls = ['https://mirrors.creativecommons.org/presskit/icons/cc.xlarge.png',\n",
    "       'https://mirrors.creativecommons.org/presskit/icons/by.xlarge.png']\n",
    "for url in urls:\n",
    "    file_name = url.split(\"/\")[-1:][0]\n",
    "    print(file_name)\n",
    "\n",
    "    file = requests.get(url, verify=False)\n",
    "    open(file_name, 'wb').write(file.content)"
   ]
  },
  {
   "cell_type": "markdown",
   "id": "c2876bbe-8f68-44d3-a2b6-87b074a652fa",
   "metadata": {},
   "source": [
    "## CWE data downloading"
   ]
  },
  {
   "cell_type": "markdown",
   "id": "1a8deaba-c660-4760-80fa-c5b239d8b654",
   "metadata": {},
   "source": [
    "All CWE IDs are taken from [cwe.mitre.org/data/downloads.html](https://cwe.mitre.org/data/downloads.html)"
   ]
  },
  {
   "cell_type": "code",
   "execution_count": 3,
   "id": "1e8428da-eb78-4d60-be57-59bee6a7d5a4",
   "metadata": {},
   "outputs": [
    {
     "name": "stdout",
     "output_type": "stream",
     "text": [
      "cwec_latest.xml.zip\n"
     ]
    }
   ],
   "source": [
    "url = 'https://cwe.mitre.org/data/xml/cwec_latest.xml.zip'\n",
    "file_name = url.split(\"/\")[-1:][0]\n",
    "print(file_name)"
   ]
  },
  {
   "cell_type": "code",
   "execution_count": 4,
   "id": "03ab49bf-14af-4668-ab9a-074e7775d304",
   "metadata": {},
   "outputs": [
    {
     "data": {
      "text/plain": [
       "1720673"
      ]
     },
     "execution_count": 4,
     "metadata": {},
     "output_type": "execute_result"
    }
   ],
   "source": [
    "import requests\n",
    "import urllib3\n",
    "\n",
    "urllib3.disable_warnings()\n",
    "\n",
    "file = requests.get(url, verify=False)\n",
    "open(file_name, 'wb').write(file.content)"
   ]
  },
  {
   "cell_type": "code",
   "execution_count": 5,
   "id": "27240ec4-b81a-474e-ba33-ae4b3b4997bf",
   "metadata": {},
   "outputs": [],
   "source": [
    "import zipfile\n",
    "\n",
    "with zipfile.ZipFile(file_name, 'r') as zip_ref:\n",
    "    zip_ref.extractall()"
   ]
  },
  {
   "cell_type": "code",
   "execution_count": 13,
   "id": "ae4022a9-c4bf-40a5-9edc-1af6cb330341",
   "metadata": {},
   "outputs": [
    {
     "name": "stdout",
     "output_type": "stream",
     "text": [
      "cwec_v4.14.xml\n"
     ]
    }
   ],
   "source": [
    "import glob\n",
    "\n",
    "file_name = glob.glob('*.xml')[-1]\n",
    "print(file_name)"
   ]
  },
  {
   "cell_type": "markdown",
   "id": "f43928f0-26fc-4351-af46-f9abbba8f35c",
   "metadata": {},
   "source": [
    "## CWE data parsing"
   ]
  },
  {
   "cell_type": "markdown",
   "id": "a3dc57d6",
   "metadata": {},
   "source": [
    "Updated to pars ``cwec_v4.14.xml``."
   ]
  },
  {
   "cell_type": "code",
   "execution_count": 16,
   "id": "e1088dbd-1b57-4057-8d90-0278a7405013",
   "metadata": {},
   "outputs": [
    {
     "name": "stdout",
     "output_type": "stream",
     "text": [
      "    number  year\n",
      "0     1004  2017\n",
      "1     1007  2017\n",
      "2      102  2006\n",
      "3     1021  2017\n",
      "4     1022  2017\n",
      "..     ...   ...\n",
      "958     95  2006\n",
      "959     96  2006\n",
      "960     97  2006\n",
      "961     98  2006\n",
      "962     99  2006\n",
      "\n",
      "[963 rows x 2 columns]\n"
     ]
    }
   ],
   "source": [
    "import pandas as pd \n",
    "import xml.etree.ElementTree as et \n",
    "\n",
    "tree = et.parse(file_name)\n",
    "root = tree.getroot()\n",
    "df_cols = [\"number\", \"year\"]\n",
    "rows = []\n",
    "\n",
    "if root.findall('{http://cwe.mitre.org/cwe-7}Weaknesses'):\n",
    "    weeknesses = root.find('{http://cwe.mitre.org/cwe-7}Weaknesses')\n",
    "    for weekness in weeknesses:\n",
    "        weekness_id = weekness.get(\"ID\")\n",
    "        weekness_content_history = weekness.find(\"{http://cwe.mitre.org/cwe-7}Content_History\")\n",
    "        weekness_content_submission = weekness_content_history.find(\"{http://cwe.mitre.org/cwe-7}Submission\")\n",
    "        weekness_content_submission_date = weekness_content_submission.find(\"{http://cwe.mitre.org/cwe-7}Submission_Date\").text\n",
    "        weekness_content_submission_year = weekness_content_submission_date[0:4]\n",
    "        \n",
    "        rows.append({\"number\": weekness_id, \"year\": weekness_content_submission_year})\n",
    "\n",
    "df = pd.DataFrame(rows, columns = df_cols)\n",
    "\n",
    "print(df)"
   ]
  },
  {
   "cell_type": "code",
   "execution_count": 17,
   "id": "a587e39c-fe69-4ece-ba2f-2b9d7bf32970",
   "metadata": {},
   "outputs": [
    {
     "data": {
      "text/html": [
       "<style type=\"text/css\">\n",
       "#T_52f21_row0_col1 {\n",
       "  width: 10em;\n",
       "  height: 80%;\n",
       "  background: linear-gradient(90deg,#FF6200 100.0%, transparent 100.0%);\n",
       "}\n",
       "#T_52f21_row1_col1 {\n",
       "  width: 10em;\n",
       "  height: 80%;\n",
       "  background: linear-gradient(90deg,#FF6200 4.3%, transparent 4.3%);\n",
       "}\n",
       "#T_52f21_row2_col1 {\n",
       "  width: 10em;\n",
       "  height: 80%;\n",
       "  background: linear-gradient(90deg,#FF6200 11.9%, transparent 11.9%);\n",
       "}\n",
       "#T_52f21_row3_col1 {\n",
       "  width: 10em;\n",
       "  height: 80%;\n",
       "  background: linear-gradient(90deg,#FF6200 7.6%, transparent 7.6%);\n",
       "}\n",
       "#T_52f21_row4_col1 {\n",
       "  width: 10em;\n",
       "  height: 80%;\n",
       "  background: linear-gradient(90deg,#FF6200 3.0%, transparent 3.0%);\n",
       "}\n",
       "#T_52f21_row5_col1 {\n",
       "  width: 10em;\n",
       "  height: 80%;\n",
       "  background: linear-gradient(90deg,#FF6200 1.3%, transparent 1.3%);\n",
       "}\n",
       "#T_52f21_row6_col1, #T_52f21_row8_col1 {\n",
       "  width: 10em;\n",
       "  height: 80%;\n",
       "  background: linear-gradient(90deg,#FF6200 0.2%, transparent 0.2%);\n",
       "}\n",
       "#T_52f21_row7_col1 {\n",
       "  width: 10em;\n",
       "  height: 80%;\n",
       "  background: linear-gradient(90deg,#FF6200 1.9%, transparent 1.9%);\n",
       "}\n",
       "#T_52f21_row9_col1 {\n",
       "  width: 10em;\n",
       "  height: 80%;\n",
       "}\n",
       "#T_52f21_row10_col1 {\n",
       "  width: 10em;\n",
       "  height: 80%;\n",
       "  background: linear-gradient(90deg,#FF6200 17.0%, transparent 17.0%);\n",
       "}\n",
       "#T_52f21_row11_col1 {\n",
       "  width: 10em;\n",
       "  height: 80%;\n",
       "  background: linear-gradient(90deg,#FF6200 3.2%, transparent 3.2%);\n",
       "}\n",
       "#T_52f21_row12_col1 {\n",
       "  width: 10em;\n",
       "  height: 80%;\n",
       "  background: linear-gradient(90deg,#FF6200 17.2%, transparent 17.2%);\n",
       "}\n",
       "#T_52f21_row13_col1 {\n",
       "  width: 10em;\n",
       "  height: 80%;\n",
       "  background: linear-gradient(90deg,#FF6200 0.9%, transparent 0.9%);\n",
       "}\n",
       "#T_52f21_row14_col1 {\n",
       "  width: 10em;\n",
       "  height: 80%;\n",
       "  background: linear-gradient(90deg,#FF6200 0.8%, transparent 0.8%);\n",
       "}\n",
       "#T_52f21_row15_col1 {\n",
       "  width: 10em;\n",
       "  height: 80%;\n",
       "  background: linear-gradient(90deg,#FF6200 0.4%, transparent 0.4%);\n",
       "}\n",
       "</style>\n",
       "<table id=\"T_52f21_\">\n",
       "  <thead>\n",
       "    <tr>\n",
       "      <th class=\"blank level0\" >&nbsp;</th>\n",
       "      <th class=\"col_heading level0 col0\" >year</th>\n",
       "      <th class=\"col_heading level0 col1\" >number</th>\n",
       "    </tr>\n",
       "  </thead>\n",
       "  <tbody>\n",
       "    <tr>\n",
       "      <th id=\"T_52f21_level0_row0\" class=\"row_heading level0 row0\" >1</th>\n",
       "      <td id=\"T_52f21_row0_col0\" class=\"data row0 col0\" >2006</td>\n",
       "      <td id=\"T_52f21_row0_col1\" class=\"data row0 col1\" >533</td>\n",
       "    </tr>\n",
       "    <tr>\n",
       "      <th id=\"T_52f21_level0_row1\" class=\"row_heading level0 row1\" >2</th>\n",
       "      <td id=\"T_52f21_row1_col0\" class=\"data row1 col0\" >2007</td>\n",
       "      <td id=\"T_52f21_row1_col1\" class=\"data row1 col1\" >27</td>\n",
       "    </tr>\n",
       "    <tr>\n",
       "      <th id=\"T_52f21_level0_row2\" class=\"row_heading level0 row2\" >3</th>\n",
       "      <td id=\"T_52f21_row2_col0\" class=\"data row2 col0\" >2008</td>\n",
       "      <td id=\"T_52f21_row2_col1\" class=\"data row2 col1\" >67</td>\n",
       "    </tr>\n",
       "    <tr>\n",
       "      <th id=\"T_52f21_level0_row3\" class=\"row_heading level0 row3\" >4</th>\n",
       "      <td id=\"T_52f21_row3_col0\" class=\"data row3 col0\" >2009</td>\n",
       "      <td id=\"T_52f21_row3_col1\" class=\"data row3 col1\" >44</td>\n",
       "    </tr>\n",
       "    <tr>\n",
       "      <th id=\"T_52f21_level0_row4\" class=\"row_heading level0 row4\" >5</th>\n",
       "      <td id=\"T_52f21_row4_col0\" class=\"data row4 col0\" >2010</td>\n",
       "      <td id=\"T_52f21_row4_col1\" class=\"data row4 col1\" >20</td>\n",
       "    </tr>\n",
       "    <tr>\n",
       "      <th id=\"T_52f21_level0_row5\" class=\"row_heading level0 row5\" >6</th>\n",
       "      <td id=\"T_52f21_row5_col0\" class=\"data row5 col0\" >2011</td>\n",
       "      <td id=\"T_52f21_row5_col1\" class=\"data row5 col1\" >11</td>\n",
       "    </tr>\n",
       "    <tr>\n",
       "      <th id=\"T_52f21_level0_row6\" class=\"row_heading level0 row6\" >7</th>\n",
       "      <td id=\"T_52f21_row6_col0\" class=\"data row6 col0\" >2012</td>\n",
       "      <td id=\"T_52f21_row6_col1\" class=\"data row6 col1\" >5</td>\n",
       "    </tr>\n",
       "    <tr>\n",
       "      <th id=\"T_52f21_level0_row7\" class=\"row_heading level0 row7\" >8</th>\n",
       "      <td id=\"T_52f21_row7_col0\" class=\"data row7 col0\" >2013</td>\n",
       "      <td id=\"T_52f21_row7_col1\" class=\"data row7 col1\" >14</td>\n",
       "    </tr>\n",
       "    <tr>\n",
       "      <th id=\"T_52f21_level0_row8\" class=\"row_heading level0 row8\" >9</th>\n",
       "      <td id=\"T_52f21_row8_col0\" class=\"data row8 col0\" >2014</td>\n",
       "      <td id=\"T_52f21_row8_col1\" class=\"data row8 col1\" >5</td>\n",
       "    </tr>\n",
       "    <tr>\n",
       "      <th id=\"T_52f21_level0_row9\" class=\"row_heading level0 row9\" >10</th>\n",
       "      <td id=\"T_52f21_row9_col0\" class=\"data row9 col0\" >2017</td>\n",
       "      <td id=\"T_52f21_row9_col1\" class=\"data row9 col1\" >4</td>\n",
       "    </tr>\n",
       "    <tr>\n",
       "      <th id=\"T_52f21_level0_row10\" class=\"row_heading level0 row10\" >11</th>\n",
       "      <td id=\"T_52f21_row10_col0\" class=\"data row10 col0\" >2018</td>\n",
       "      <td id=\"T_52f21_row10_col1\" class=\"data row10 col1\" >94</td>\n",
       "    </tr>\n",
       "    <tr>\n",
       "      <th id=\"T_52f21_level0_row11\" class=\"row_heading level0 row11\" >12</th>\n",
       "      <td id=\"T_52f21_row11_col0\" class=\"data row11 col0\" >2019</td>\n",
       "      <td id=\"T_52f21_row11_col1\" class=\"data row11 col1\" >21</td>\n",
       "    </tr>\n",
       "    <tr>\n",
       "      <th id=\"T_52f21_level0_row12\" class=\"row_heading level0 row12\" >13</th>\n",
       "      <td id=\"T_52f21_row12_col0\" class=\"data row12 col0\" >2020</td>\n",
       "      <td id=\"T_52f21_row12_col1\" class=\"data row12 col1\" >95</td>\n",
       "    </tr>\n",
       "    <tr>\n",
       "      <th id=\"T_52f21_level0_row13\" class=\"row_heading level0 row13\" >14</th>\n",
       "      <td id=\"T_52f21_row13_col0\" class=\"data row13 col0\" >2021</td>\n",
       "      <td id=\"T_52f21_row13_col1\" class=\"data row13 col1\" >9</td>\n",
       "    </tr>\n",
       "    <tr>\n",
       "      <th id=\"T_52f21_level0_row14\" class=\"row_heading level0 row14\" >15</th>\n",
       "      <td id=\"T_52f21_row14_col0\" class=\"data row14 col0\" >2022</td>\n",
       "      <td id=\"T_52f21_row14_col1\" class=\"data row14 col1\" >8</td>\n",
       "    </tr>\n",
       "    <tr>\n",
       "      <th id=\"T_52f21_level0_row15\" class=\"row_heading level0 row15\" >16</th>\n",
       "      <td id=\"T_52f21_row15_col0\" class=\"data row15 col0\" >2023</td>\n",
       "      <td id=\"T_52f21_row15_col1\" class=\"data row15 col1\" >6</td>\n",
       "    </tr>\n",
       "  </tbody>\n",
       "</table>\n"
      ],
      "text/plain": [
       "<pandas.io.formats.style.Styler at 0x7fe62b281bb0>"
      ]
     },
     "execution_count": 17,
     "metadata": {},
     "output_type": "execute_result"
    }
   ],
   "source": [
    "df = df.groupby(['year'], as_index=False)[['number']].count()\n",
    "df.reset_index(drop=True, inplace=True)\n",
    "df.index += 1\n",
    "\n",
    "df.style.bar(subset=['number'], color='#FF6200')"
   ]
  },
  {
   "cell_type": "markdown",
   "id": "dbacf815-d8f7-46c4-90e6-a522138c654d",
   "metadata": {},
   "source": [
    "## CWE data saving"
   ]
  },
  {
   "cell_type": "markdown",
   "id": "5878b673-ebef-4b6d-8ee6-a9b4bdccb726",
   "metadata": {},
   "source": [
    "CSV file is available in GitHub repository, see:\n",
    "\n",
    "- [file via GitHub](https://github.com/LimberDuck/limberduck_org_julio_7/blob/main/docs/notebooks/cwe/cwe-number-of-entries.csv)\n",
    "- [file directly](https://raw.githubusercontent.com/LimberDuck/limberduck_org_julio_7/main/docs/notebooks/cwe/cwe-number-of-entries.csv)"
   ]
  },
  {
   "cell_type": "code",
   "execution_count": 18,
   "id": "2492fb0a-724e-4957-9998-12c13b1ff847",
   "metadata": {},
   "outputs": [],
   "source": [
    "csv_filename = 'cwe-number-of-entries.csv'\n",
    "\n",
    "df.to_csv(csv_filename, index=False)"
   ]
  },
  {
   "cell_type": "markdown",
   "id": "1f81d1a1-4974-4012-8712-25121a5928f1",
   "metadata": {},
   "source": [
    "## CWE data ploting"
   ]
  },
  {
   "cell_type": "markdown",
   "id": "c9033a24-120b-49e8-819c-1624d7d22dca",
   "metadata": {},
   "source": [
    "PNG files are available in GitHub repository with two background versions, see: \n",
    "\n",
    "- [file via GitHub (white background)](https://github.com/LimberDuck/limberduck_org_julio_7/blob/main/docs/notebooks/cwe/cwe-number-of-entries-bg-white.png)\n",
    "- [file via GitHub (transparent background)](https://github.com/LimberDuck/limberduck_org_julio_7/blob/main/docs/notebooks/cwe/cwe-number-of-entries-bg-transparent.png)\n",
    "- [file directly (white background)](https://raw.githubusercontent.com/LimberDuck/limberduck_org_julio_7/main/docs/notebooks/cwe/cwe-number-of-entries-bg-white.png)\n",
    "- [file directly (transparent background)](https://raw.githubusercontent.com/LimberDuck/limberduck_org_julio_7/main/docs/notebooks/cwe/cwe-number-of-entries-bg-transparent.png)"
   ]
  },
  {
   "cell_type": "code",
   "execution_count": 19,
   "id": "b7ca5ffc-ec65-409f-a276-6e1d8cb9713d",
   "metadata": {},
   "outputs": [
    {
     "data": {
      "image/png": "[encoded data removed]",
      "text/plain": [
       "<Figure size 720x432 with 3 Axes>"
      ]
     },
     "metadata": {},
     "output_type": "display_data"
    }
   ],
   "source": [
    "import pandas as pd\n",
    "import matplotlib.pyplot as plt\n",
    "import datetime\n",
    "\n",
    "df = pd.read_csv(csv_filename)\n",
    "\n",
    "df.plot(x='year', \n",
    "        xlabel='Year',\n",
    "        y='number', \n",
    "        ylabel='Number of CWE',\n",
    "        kind='bar', \n",
    "        title='Number of CWE per year')\n",
    "plt.tight_layout()\n",
    "plt.legend(['CWE'])\n",
    "plt.figtext(0.12, 0.02, f\"Generated on {generation_time} thanks to limberduck.org based on source: cwe.mitre.org\", ha=\"left\", fontsize=7)\n",
    "fig = plt.gcf()\n",
    "fig.set_size_inches(10,6)\n",
    "fig.patch.set_facecolor('white')\n",
    "plt.grid(True)\n",
    "\n",
    "img_cc = plt.imread('cc.xlarge.png')\n",
    "newax_cc = fig.add_axes([0.88, 0.0, 0.05, 0.05], anchor='NE', zorder=-1)\n",
    "newax_cc.imshow(img_cc)\n",
    "newax_cc.axis('off')\n",
    "img_by = plt.imread('by.xlarge.png')\n",
    "newax_by = fig.add_axes([0.92, 0.0, 0.05, 0.05], anchor='NE', zorder=-1)\n",
    "newax_by.imshow(img_by)\n",
    "newax_by.axis('off')\n",
    "\n",
    "plt.savefig('cwe-number-of-entries-bg-white.png', dpi = 300, facecolor = 'white')\n",
    "plt.savefig('cwe-number-of-entries-bg-transparent.png', dpi = 300, transparent = True)"
   ]
  }
 ],
 "metadata": {
  "kernelspec": {
   "display_name": "Python 3 (ipykernel)",
   "language": "python",
   "name": "python3"
  },
  "language_info": {
   "codemirror_mode": {
    "name": "ipython",
    "version": 3
   },
   "file_extension": ".py",
   "mimetype": "text/x-python",
   "name": "python",
   "nbconvert_exporter": "python",
   "pygments_lexer": "ipython3",
   "version": "3.9.5"
  }
 },
 "nbformat": 4,
 "nbformat_minor": 5
}
